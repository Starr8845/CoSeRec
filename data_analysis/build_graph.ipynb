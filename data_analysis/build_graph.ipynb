{
 "cells": [
  {
   "cell_type": "code",
   "execution_count": 12,
   "metadata": {},
   "outputs": [],
   "source": [
    "# 根据相邻物品 构建图\n",
    "\n",
    "import numpy as np\n",
    "from collections import defaultdict\n",
    "\n",
    "dataset_name = \"Sports_and_Outdoors\"\n",
    "\n",
    "\n",
    "with open(f\"/home/zzx/seqRec/CLTrys/CoSeRec/data/{dataset_name}.txt\",\"r\") as f:\n",
    "    raw_data = f.readlines()\n",
    "\n",
    "\n",
    "Seqs = [each.strip().split(' ')[1:] for each in raw_data]\n",
    "item_frequency = defaultdict(int)\n",
    "\n",
    "for seq in Seqs:\n",
    "    for each_item in seq:\n",
    "        item_frequency[each_item] +=1\n"
   ]
  },
  {
   "cell_type": "code",
   "execution_count": 6,
   "metadata": {},
   "outputs": [],
   "source": [
    "myGraph = defaultdict(list)\n",
    "for seq in Seqs:\n",
    "    for i in range(len(seq)):\n",
    "        each = seq[i]\n",
    "        if i>0:\n",
    "            myGraph[each].append(seq[i-1])\n",
    "        if i+1<len(seq):\n",
    "            myGraph[each].append(seq[i+1])\n",
    "# print(myGraph)\n",
    "\n",
    "def calEdgeWeight(nodes):\n",
    "    nodes_set = set(nodes)\n",
    "    result = defaultdict(int)\n",
    "    for node in nodes_set:\n",
    "        result[node]+=1\n",
    "    return result\n",
    "\n",
    "weightedGraph = {}\n",
    "for node in myGraph:\n",
    "    weightedGraph[node] = calEdgeWeight(myGraph[node])\n",
    "\n",
    "# print(weightedGraph)\n"
   ]
  },
  {
   "cell_type": "code",
   "execution_count": 11,
   "metadata": {},
   "outputs": [
    {
     "name": "stdout",
     "output_type": "stream",
     "text": [
      "487234\n",
      "1 1 1.0\n"
     ]
    }
   ],
   "source": [
    "edge_weights = []\n",
    "for i, (node, edges) in enumerate(weightedGraph.items()):\n",
    "    # if i>10:\n",
    "    #     break\n",
    "    # print(node, edges)\n",
    "    for (node2, weight) in edges.items():\n",
    "        edge_weights.append(weight)\n",
    "print(len(edge_weights))\n",
    "print(max(edge_weights), min(edge_weights), np.average(edge_weights))"
   ]
  },
  {
   "cell_type": "code",
   "execution_count": 13,
   "metadata": {},
   "outputs": [
    {
     "data": {
      "text/plain": [
       "26.542136514681047"
      ]
     },
     "execution_count": 13,
     "metadata": {},
     "output_type": "execute_result"
    }
   ],
   "source": [
    "# 计算一下平均的度\n",
    "len(edge_weights)/len(item_frequency)\n",
    "# 每个item平均的度为26.5\n",
    "\n",
    " #这样可以设计对比学习任务"
   ]
  }
 ],
 "metadata": {
  "kernelspec": {
   "display_name": "env1",
   "language": "python",
   "name": "python3"
  },
  "language_info": {
   "codemirror_mode": {
    "name": "ipython",
    "version": 3
   },
   "file_extension": ".py",
   "mimetype": "text/x-python",
   "name": "python",
   "nbconvert_exporter": "python",
   "pygments_lexer": "ipython3",
   "version": "3.10.4"
  }
 },
 "nbformat": 4,
 "nbformat_minor": 2
}
